{
  "nbformat": 4,
  "nbformat_minor": 0,
  "metadata": {
    "colab": {
      "name": "Walmart-Sales-Analysis.ipynb",
      "provenance": [],
      "collapsed_sections": [],
      "authorship_tag": "ABX9TyOf7rqps4ncqT1Xu8Wufb5Y",
      "include_colab_link": true
    },
    "kernelspec": {
      "name": "python3",
      "display_name": "Python 3"
    },
    "language_info": {
      "name": "python"
    }
  },
  "cells": [
    {
      "cell_type": "markdown",
      "metadata": {
        "id": "view-in-github",
        "colab_type": "text"
      },
      "source": [
        "<a href=\"https://colab.research.google.com/github/derawall1/Walmart-Sales-Analysis/blob/master/Walmart_Sales_Analysis.ipynb\" target=\"_parent\"><img src=\"https://colab.research.google.com/assets/colab-badge.svg\" alt=\"Open In Colab\"/></a>"
      ]
    },
    {
      "cell_type": "markdown",
      "source": [
        "**Importing Libraries**"
      ],
      "metadata": {
        "id": "e-CvXG9erT61"
      }
    },
    {
      "cell_type": "code",
      "execution_count": 1,
      "metadata": {
        "id": "Neyq46OJpMcS"
      },
      "outputs": [],
      "source": [
        "import numpy as np\n",
        "import pandas as pd\n",
        "import matplotlib.pyplot as plt\n",
        "import matplotlib.patches as patches\n",
        "import seaborn as sns\n",
        "import plotly.express as px\n",
        "import plotly.graph_objs as go\n",
        "from plotly.offline import iplot\n",
        "\n",
        "from math import sqrt\n",
        "\n",
        "import warnings \n",
        "\n"
      ]
    },
    {
      "cell_type": "markdown",
      "source": [
        "**Reading the Data from the CSV file**"
      ],
      "metadata": {
        "id": "PrqL01P2rZTG"
      }
    },
    {
      "cell_type": "code",
      "source": [
        "train_df = pd.read_csv('tran.csv')\n",
        "features_df = pd.read_csv('features.csv')\n",
        "stores_df = pd.read_csv('stores.csv')\n",
        "test_df = pd.read_csv('test.csv')\n",
        "\n",
        "train_df.head()"
      ],
      "metadata": {
        "id": "G7Fgxt5ErY2L"
      },
      "execution_count": null,
      "outputs": []
    }
  ]
}